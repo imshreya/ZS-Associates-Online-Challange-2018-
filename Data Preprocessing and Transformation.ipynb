{
 "cells": [
  {
   "cell_type": "code",
   "execution_count": 13,
   "metadata": {},
   "outputs": [],
   "source": [
    "import pandas as pd\n",
    "import numpy as np\n",
    "%matplotlib inline\n",
    "import matplotlib.pyplot as plt\n",
    "from sklearn.model_selection import train_test_split"
   ]
  },
  {
   "cell_type": "code",
   "execution_count": 14,
   "metadata": {},
   "outputs": [],
   "source": [
    "train=pd.read_csv('yds_train2018.csv')"
   ]
  },
  {
   "cell_type": "code",
   "execution_count": 15,
   "metadata": {},
   "outputs": [
    {
     "data": {
      "text/plain": [
       "79072"
      ]
     },
     "execution_count": 15,
     "metadata": {},
     "output_type": "execute_result"
    }
   ],
   "source": [
    "train_length=train.shape[0]\n",
    "train_length"
   ]
  },
  {
   "cell_type": "markdown",
   "metadata": {},
   "source": [
    "# Converted into Indian Currency"
   ]
  },
  {
   "cell_type": "code",
   "execution_count": 16,
   "metadata": {},
   "outputs": [],
   "source": [
    "for i in range(train_length):\n",
    "    \n",
    "    if train.iloc[i,-2]=='Columbia':\n",
    "        train.iloc[i,-1]*=0.024\n",
    "        \n",
    "    elif train.iloc[i,-2]=='Argentina':\n",
    "        train.iloc[i,-1]*=2.48\n",
    "        \n",
    "    elif train.iloc[i,-2]=='Finland':\n",
    "        train.iloc[i,-1]*=80.21\n",
    "        \n",
    "    elif train.iloc[i,-2]=='England':\n",
    "        train.iloc[i,-1]*=89.55\n",
    "        \n",
    "    elif train.iloc[i,-2]=='Belgium':\n",
    "        train.iloc[i,-1]*=80.30  \n",
    "        \n",
    "    elif train.iloc[i,-2]=='Denmark':\n",
    "        train.iloc[i,-1]*=10.76    \n",
    "        "
   ]
  },
  {
   "cell_type": "code",
   "execution_count": 17,
   "metadata": {},
   "outputs": [
    {
     "data": {
      "text/html": [
       "<div>\n",
       "<style scoped>\n",
       "    .dataframe tbody tr th:only-of-type {\n",
       "        vertical-align: middle;\n",
       "    }\n",
       "\n",
       "    .dataframe tbody tr th {\n",
       "        vertical-align: top;\n",
       "    }\n",
       "\n",
       "    .dataframe thead th {\n",
       "        text-align: right;\n",
       "    }\n",
       "</style>\n",
       "<table border=\"1\" class=\"dataframe\">\n",
       "  <thead>\n",
       "    <tr style=\"text-align: right;\">\n",
       "      <th></th>\n",
       "      <th>S_No</th>\n",
       "      <th>Year</th>\n",
       "      <th>Month</th>\n",
       "      <th>Week</th>\n",
       "      <th>Merchant_ID</th>\n",
       "      <th>Product_ID</th>\n",
       "      <th>Country</th>\n",
       "      <th>Sales</th>\n",
       "    </tr>\n",
       "  </thead>\n",
       "  <tbody>\n",
       "    <tr>\n",
       "      <th>0</th>\n",
       "      <td>1</td>\n",
       "      <td>2013</td>\n",
       "      <td>1</td>\n",
       "      <td>1</td>\n",
       "      <td>ar00001</td>\n",
       "      <td>1</td>\n",
       "      <td>Argentina</td>\n",
       "      <td>390600.0</td>\n",
       "    </tr>\n",
       "    <tr>\n",
       "      <th>1</th>\n",
       "      <td>2</td>\n",
       "      <td>2013</td>\n",
       "      <td>1</td>\n",
       "      <td>1</td>\n",
       "      <td>ar00003</td>\n",
       "      <td>1</td>\n",
       "      <td>Argentina</td>\n",
       "      <td>97650.0</td>\n",
       "    </tr>\n",
       "    <tr>\n",
       "      <th>2</th>\n",
       "      <td>3</td>\n",
       "      <td>2013</td>\n",
       "      <td>1</td>\n",
       "      <td>1</td>\n",
       "      <td>ar00004</td>\n",
       "      <td>1</td>\n",
       "      <td>Argentina</td>\n",
       "      <td>39060.0</td>\n",
       "    </tr>\n",
       "    <tr>\n",
       "      <th>3</th>\n",
       "      <td>4</td>\n",
       "      <td>2013</td>\n",
       "      <td>1</td>\n",
       "      <td>1</td>\n",
       "      <td>ar00007</td>\n",
       "      <td>1</td>\n",
       "      <td>Argentina</td>\n",
       "      <td>117180.0</td>\n",
       "    </tr>\n",
       "    <tr>\n",
       "      <th>4</th>\n",
       "      <td>5</td>\n",
       "      <td>2013</td>\n",
       "      <td>1</td>\n",
       "      <td>1</td>\n",
       "      <td>ar00008</td>\n",
       "      <td>1</td>\n",
       "      <td>Argentina</td>\n",
       "      <td>703080.0</td>\n",
       "    </tr>\n",
       "  </tbody>\n",
       "</table>\n",
       "</div>"
      ],
      "text/plain": [
       "   S_No  Year  Month  Week Merchant_ID  Product_ID    Country     Sales\n",
       "0     1  2013      1     1     ar00001           1  Argentina  390600.0\n",
       "1     2  2013      1     1     ar00003           1  Argentina   97650.0\n",
       "2     3  2013      1     1     ar00004           1  Argentina   39060.0\n",
       "3     4  2013      1     1     ar00007           1  Argentina  117180.0\n",
       "4     5  2013      1     1     ar00008           1  Argentina  703080.0"
      ]
     },
     "execution_count": 17,
     "metadata": {},
     "output_type": "execute_result"
    }
   ],
   "source": [
    "train.head()"
   ]
  },
  {
   "cell_type": "code",
   "execution_count": 18,
   "metadata": {},
   "outputs": [],
   "source": [
    "train=train.sort_values(by=['Merchant_ID'])"
   ]
  },
  {
   "cell_type": "code",
   "execution_count": 19,
   "metadata": {},
   "outputs": [],
   "source": [
    "train=train.drop(['Merchant_ID','Week','S_No'],axis=1)"
   ]
  },
  {
   "cell_type": "code",
   "execution_count": 20,
   "metadata": {},
   "outputs": [
    {
     "data": {
      "text/html": [
       "<div>\n",
       "<style scoped>\n",
       "    .dataframe tbody tr th:only-of-type {\n",
       "        vertical-align: middle;\n",
       "    }\n",
       "\n",
       "    .dataframe tbody tr th {\n",
       "        vertical-align: top;\n",
       "    }\n",
       "\n",
       "    .dataframe thead th {\n",
       "        text-align: right;\n",
       "    }\n",
       "</style>\n",
       "<table border=\"1\" class=\"dataframe\">\n",
       "  <thead>\n",
       "    <tr style=\"text-align: right;\">\n",
       "      <th></th>\n",
       "      <th>Year</th>\n",
       "      <th>Month</th>\n",
       "      <th>Product_ID</th>\n",
       "      <th>Country</th>\n",
       "      <th>Sales</th>\n",
       "    </tr>\n",
       "  </thead>\n",
       "  <tbody>\n",
       "    <tr>\n",
       "      <th>3637</th>\n",
       "      <td>2015</td>\n",
       "      <td>2</td>\n",
       "      <td>1</td>\n",
       "      <td>Argentina</td>\n",
       "      <td>3906.0</td>\n",
       "    </tr>\n",
       "    <tr>\n",
       "      <th>3381</th>\n",
       "      <td>2014</td>\n",
       "      <td>12</td>\n",
       "      <td>1</td>\n",
       "      <td>Argentina</td>\n",
       "      <td>3906.0</td>\n",
       "    </tr>\n",
       "    <tr>\n",
       "      <th>4719</th>\n",
       "      <td>2015</td>\n",
       "      <td>11</td>\n",
       "      <td>1</td>\n",
       "      <td>Argentina</td>\n",
       "      <td>3906.0</td>\n",
       "    </tr>\n",
       "    <tr>\n",
       "      <th>719</th>\n",
       "      <td>2013</td>\n",
       "      <td>5</td>\n",
       "      <td>1</td>\n",
       "      <td>Argentina</td>\n",
       "      <td>3906.0</td>\n",
       "    </tr>\n",
       "    <tr>\n",
       "      <th>1019</th>\n",
       "      <td>2013</td>\n",
       "      <td>7</td>\n",
       "      <td>1</td>\n",
       "      <td>Argentina</td>\n",
       "      <td>3906.0</td>\n",
       "    </tr>\n",
       "  </tbody>\n",
       "</table>\n",
       "</div>"
      ],
      "text/plain": [
       "      Year  Month  Product_ID    Country   Sales\n",
       "3637  2015      2           1  Argentina  3906.0\n",
       "3381  2014     12           1  Argentina  3906.0\n",
       "4719  2015     11           1  Argentina  3906.0\n",
       "719   2013      5           1  Argentina  3906.0\n",
       "1019  2013      7           1  Argentina  3906.0"
      ]
     },
     "execution_count": 20,
     "metadata": {},
     "output_type": "execute_result"
    }
   ],
   "source": [
    "train.head()"
   ]
  },
  {
   "cell_type": "code",
   "execution_count": 21,
   "metadata": {},
   "outputs": [],
   "source": [
    "train['Date'] = pd.to_datetime(train[['Year', 'Month']].assign(Day=1))"
   ]
  },
  {
   "cell_type": "code",
   "execution_count": 22,
   "metadata": {},
   "outputs": [
    {
     "data": {
      "text/html": [
       "<div>\n",
       "<style scoped>\n",
       "    .dataframe tbody tr th:only-of-type {\n",
       "        vertical-align: middle;\n",
       "    }\n",
       "\n",
       "    .dataframe tbody tr th {\n",
       "        vertical-align: top;\n",
       "    }\n",
       "\n",
       "    .dataframe thead th {\n",
       "        text-align: right;\n",
       "    }\n",
       "</style>\n",
       "<table border=\"1\" class=\"dataframe\">\n",
       "  <thead>\n",
       "    <tr style=\"text-align: right;\">\n",
       "      <th></th>\n",
       "      <th>Year</th>\n",
       "      <th>Month</th>\n",
       "      <th>Product_ID</th>\n",
       "      <th>Country</th>\n",
       "      <th>Sales</th>\n",
       "      <th>Date</th>\n",
       "    </tr>\n",
       "  </thead>\n",
       "  <tbody>\n",
       "    <tr>\n",
       "      <th>3637</th>\n",
       "      <td>2015</td>\n",
       "      <td>2</td>\n",
       "      <td>1</td>\n",
       "      <td>Argentina</td>\n",
       "      <td>3906.0</td>\n",
       "      <td>2015-02-01</td>\n",
       "    </tr>\n",
       "    <tr>\n",
       "      <th>3381</th>\n",
       "      <td>2014</td>\n",
       "      <td>12</td>\n",
       "      <td>1</td>\n",
       "      <td>Argentina</td>\n",
       "      <td>3906.0</td>\n",
       "      <td>2014-12-01</td>\n",
       "    </tr>\n",
       "    <tr>\n",
       "      <th>4719</th>\n",
       "      <td>2015</td>\n",
       "      <td>11</td>\n",
       "      <td>1</td>\n",
       "      <td>Argentina</td>\n",
       "      <td>3906.0</td>\n",
       "      <td>2015-11-01</td>\n",
       "    </tr>\n",
       "    <tr>\n",
       "      <th>719</th>\n",
       "      <td>2013</td>\n",
       "      <td>5</td>\n",
       "      <td>1</td>\n",
       "      <td>Argentina</td>\n",
       "      <td>3906.0</td>\n",
       "      <td>2013-05-01</td>\n",
       "    </tr>\n",
       "    <tr>\n",
       "      <th>1019</th>\n",
       "      <td>2013</td>\n",
       "      <td>7</td>\n",
       "      <td>1</td>\n",
       "      <td>Argentina</td>\n",
       "      <td>3906.0</td>\n",
       "      <td>2013-07-01</td>\n",
       "    </tr>\n",
       "  </tbody>\n",
       "</table>\n",
       "</div>"
      ],
      "text/plain": [
       "      Year  Month  Product_ID    Country   Sales       Date\n",
       "3637  2015      2           1  Argentina  3906.0 2015-02-01\n",
       "3381  2014     12           1  Argentina  3906.0 2014-12-01\n",
       "4719  2015     11           1  Argentina  3906.0 2015-11-01\n",
       "719   2013      5           1  Argentina  3906.0 2013-05-01\n",
       "1019  2013      7           1  Argentina  3906.0 2013-07-01"
      ]
     },
     "execution_count": 22,
     "metadata": {},
     "output_type": "execute_result"
    }
   ],
   "source": [
    "train.head()"
   ]
  },
  {
   "cell_type": "code",
   "execution_count": 23,
   "metadata": {},
   "outputs": [
    {
     "name": "stdout",
     "output_type": "stream",
     "text": [
      "(388, 5)\n",
      "       Country  Product_ID  Year  Month         Sales\n",
      "0    Argentina           1  2013      1  8.517814e+07\n",
      "1    Argentina           1  2013      2  7.937383e+07\n",
      "2    Argentina           1  2013      3  8.067452e+07\n",
      "3    Argentina           1  2013      4  8.825998e+07\n",
      "4    Argentina           1  2013      5  9.619697e+07\n",
      "5    Argentina           1  2013      6  8.976769e+07\n",
      "6    Argentina           1  2013      7  9.209176e+07\n",
      "7    Argentina           1  2013      8  8.757252e+07\n",
      "8    Argentina           1  2013      9  9.532593e+07\n",
      "9    Argentina           1  2013     10  1.101062e+08\n",
      "10   Argentina           1  2013     11  1.129029e+08\n",
      "11   Argentina           1  2013     12  8.335404e+07\n",
      "12   Argentina           1  2014      1  1.106101e+08\n",
      "13   Argentina           1  2014      2  1.030754e+08\n",
      "14   Argentina           1  2014      3  9.165429e+07\n",
      "15   Argentina           1  2014      4  1.077509e+08\n",
      "16   Argentina           1  2014      5  1.013412e+08\n",
      "17   Argentina           1  2014      6  1.001342e+08\n",
      "18   Argentina           1  2014      7  1.077783e+08\n",
      "19   Argentina           1  2014      8  1.024309e+08\n",
      "20   Argentina           1  2014      9  1.085829e+08\n",
      "21   Argentina           1  2014     10  1.085673e+08\n",
      "22   Argentina           1  2014     11  1.050909e+08\n",
      "23   Argentina           1  2014     12  1.097234e+08\n",
      "24   Argentina           1  2015      1  1.155200e+08\n",
      "25   Argentina           1  2015      2  8.201038e+07\n",
      "26   Argentina           1  2015      3  9.390415e+07\n",
      "27   Argentina           1  2015      4  8.713895e+07\n",
      "28   Argentina           1  2015      5  8.820139e+07\n",
      "29   Argentina           1  2015      6  1.035559e+08\n",
      "..         ...         ...   ...    ...           ...\n",
      "358    Finland           4  2013      5  2.642300e+09\n",
      "359    Finland           4  2013      6  1.536497e+09\n",
      "360    Finland           4  2013      7  2.180115e+09\n",
      "361    Finland           4  2013      8  2.205179e+09\n",
      "362    Finland           4  2013      9  2.719217e+09\n",
      "363    Finland           4  2013     10  2.410549e+09\n",
      "364    Finland           4  2013     11  2.994098e+09\n",
      "365    Finland           4  2013     12  2.077376e+09\n",
      "366    Finland           4  2014      1  2.283452e+09\n",
      "367    Finland           4  2014      2  1.461307e+09\n",
      "368    Finland           4  2014      3  3.195478e+09\n",
      "369    Finland           4  2014      4  2.659643e+09\n",
      "370    Finland           4  2014      5  1.909102e+09\n",
      "371    Finland           4  2014      6  2.237479e+09\n",
      "372    Finland           4  2014      7  2.417782e+09\n",
      "373    Finland           4  2014      8  2.136275e+09\n",
      "374    Finland           4  2014      9  3.049584e+09\n",
      "375    Finland           4  2014     10  1.898770e+09\n",
      "376    Finland           4  2014     11  2.022672e+09\n",
      "377    Finland           4  2014     12  2.419861e+09\n",
      "378    Finland           4  2015      1  2.462958e+09\n",
      "379    Finland           4  2015      2  4.019638e+09\n",
      "380    Finland           4  2015      3  7.254933e+08\n",
      "381    Finland           4  2015      4  2.491902e+09\n",
      "382    Finland           4  2015      5  1.960851e+09\n",
      "383    Finland           4  2015      6  2.561248e+09\n",
      "384    Finland           4  2015      7  2.268909e+09\n",
      "385    Finland           4  2015      8  2.307250e+09\n",
      "386    Finland           4  2015      9  2.311475e+09\n",
      "387    Finland           4  2015     10  2.508071e+09\n",
      "\n",
      "[388 rows x 5 columns]\n"
     ]
    }
   ],
   "source": [
    "data=pd.DataFrame()\n",
    "data=train.groupby(['Country','Product_ID','Year','Month'],as_index=False)['Sales'].sum()\n",
    "print(data.shape)\n",
    "print(data)"
   ]
  },
  {
   "cell_type": "code",
   "execution_count": 24,
   "metadata": {},
   "outputs": [],
   "source": [
    "data.to_csv('data.csv',index=False)"
   ]
  }
 ],
 "metadata": {
  "kernelspec": {
   "display_name": "Python 3",
   "language": "python",
   "name": "python3"
  },
  "language_info": {
   "codemirror_mode": {
    "name": "ipython",
    "version": 3
   },
   "file_extension": ".py",
   "mimetype": "text/x-python",
   "name": "python",
   "nbconvert_exporter": "python",
   "pygments_lexer": "ipython3",
   "version": "3.6.5"
  }
 },
 "nbformat": 4,
 "nbformat_minor": 2
}
